{
 "cells": [
  {
   "cell_type": "markdown",
   "metadata": {},
   "source": [
    "# Detecting Fake News with Python and Machine Learning"
   ]
  },
  {
   "cell_type": "code",
   "execution_count": null,
   "metadata": {},
   "outputs": [],
   "source": []
  },
  {
   "cell_type": "code",
   "execution_count": 3,
   "metadata": {},
   "outputs": [],
   "source": [
    "import pandas as pd\n",
    "import matplotlib.pyplot as plt\n",
    "%matplotlib inline\n",
    "import seaborn as sns\n",
    "import itertools\n",
    "from sklearn.model_selection import train_test_split\n",
    "from sklearn.feature_extraction.text import TfidfVectorizer\n",
    "from sklearn.linear_model import PassiveAggressiveClassifier\n",
    "from sklearn.metrics import accuracy_score, confusion_matrix"
   ]
  },
  {
   "cell_type": "markdown",
   "metadata": {},
   "source": [
    "What is Fake News?\n",
    "A type of yellow journalism, fake news encapsulates pieces of news that may be hoaxes and is generally spread through social media and other online media. This is often done to further or impose certain ideas and is often achieved with political agendas. Such news items may contain false and/or exaggerated claims, and may end up being viralized by algorithms, and users may end up in a filter bubble.\n",
    "\n",
    "What is a TfidfVectorizer?\n",
    "TF (Term Frequency): The number of times a word appears in a document is its Term Frequency. A higher value means a term appears more often than others, and so, the document is a good match when the term is part of the search terms.\n",
    "\n",
    "IDF (Inverse Document Frequency): Words that occur many times a document, but also occur many times in many others, may be irrelevant. IDF is a measure of how significant a term is in the entire corpus.\n",
    "\n",
    "The TfidfVectorizer converts a collection of raw documents into a matrix of TF-IDF features.\n",
    "\n",
    "What is a PassiveAggressiveClassifier?\n",
    "Passive Aggressive algorithms are online learning algorithms. Such an algorithm remains passive for a correct classification outcome, and turns aggressive in the event of a miscalculation, updating and adjusting. Unlike most other algorithms, it does not converge. Its purpose is to make updates that correct the loss, causing very little change in the norm of the weight vector.\n",
    "\n",
    "Detecting Fake News with Python\n",
    "To build a model to accurately classify a piece of news as REAL or FAKE.\n",
    "\n",
    "About Detecting Fake News with Python\n",
    "This advanced python project of detecting fake news deals with fake and real news. Using sklearn, we build a TfidfVectorizer on our dataset. Then, we initialize a PassiveAggressive Classifier and fit the model. In the end, the accuracy score and the confusion matrix tell us how well our model fares."
   ]
  },
  {
   "cell_type": "code",
   "execution_count": 2,
   "metadata": {},
   "outputs": [
    {
     "name": "stdout",
     "output_type": "stream",
     "text": [
      "<class 'pandas.core.frame.DataFrame'>\n"
     ]
    },
    {
     "data": {
      "text/html": [
       "<div>\n",
       "<style scoped>\n",
       "    .dataframe tbody tr th:only-of-type {\n",
       "        vertical-align: middle;\n",
       "    }\n",
       "\n",
       "    .dataframe tbody tr th {\n",
       "        vertical-align: top;\n",
       "    }\n",
       "\n",
       "    .dataframe thead th {\n",
       "        text-align: right;\n",
       "    }\n",
       "</style>\n",
       "<table border=\"1\" class=\"dataframe\">\n",
       "  <thead>\n",
       "    <tr style=\"text-align: right;\">\n",
       "      <th></th>\n",
       "      <th>Unnamed: 0</th>\n",
       "      <th>title</th>\n",
       "      <th>text</th>\n",
       "      <th>label</th>\n",
       "    </tr>\n",
       "  </thead>\n",
       "  <tbody>\n",
       "    <tr>\n",
       "      <th>0</th>\n",
       "      <td>8476</td>\n",
       "      <td>You Can Smell Hillary’s Fear</td>\n",
       "      <td>Daniel Greenfield, a Shillman Journalism Fello...</td>\n",
       "      <td>FAKE</td>\n",
       "    </tr>\n",
       "    <tr>\n",
       "      <th>1</th>\n",
       "      <td>10294</td>\n",
       "      <td>Watch The Exact Moment Paul Ryan Committed Pol...</td>\n",
       "      <td>Google Pinterest Digg Linkedin Reddit Stumbleu...</td>\n",
       "      <td>FAKE</td>\n",
       "    </tr>\n",
       "    <tr>\n",
       "      <th>2</th>\n",
       "      <td>3608</td>\n",
       "      <td>Kerry to go to Paris in gesture of sympathy</td>\n",
       "      <td>U.S. Secretary of State John F. Kerry said Mon...</td>\n",
       "      <td>REAL</td>\n",
       "    </tr>\n",
       "    <tr>\n",
       "      <th>3</th>\n",
       "      <td>10142</td>\n",
       "      <td>Bernie supporters on Twitter erupt in anger ag...</td>\n",
       "      <td>— Kaydee King (@KaydeeKing) November 9, 2016 T...</td>\n",
       "      <td>FAKE</td>\n",
       "    </tr>\n",
       "    <tr>\n",
       "      <th>4</th>\n",
       "      <td>875</td>\n",
       "      <td>The Battle of New York: Why This Primary Matters</td>\n",
       "      <td>It's primary day in New York and front-runners...</td>\n",
       "      <td>REAL</td>\n",
       "    </tr>\n",
       "  </tbody>\n",
       "</table>\n",
       "</div>"
      ],
      "text/plain": [
       "   Unnamed: 0                                              title  \\\n",
       "0        8476                       You Can Smell Hillary’s Fear   \n",
       "1       10294  Watch The Exact Moment Paul Ryan Committed Pol...   \n",
       "2        3608        Kerry to go to Paris in gesture of sympathy   \n",
       "3       10142  Bernie supporters on Twitter erupt in anger ag...   \n",
       "4         875   The Battle of New York: Why This Primary Matters   \n",
       "\n",
       "                                                text label  \n",
       "0  Daniel Greenfield, a Shillman Journalism Fello...  FAKE  \n",
       "1  Google Pinterest Digg Linkedin Reddit Stumbleu...  FAKE  \n",
       "2  U.S. Secretary of State John F. Kerry said Mon...  REAL  \n",
       "3  — Kaydee King (@KaydeeKing) November 9, 2016 T...  FAKE  \n",
       "4  It's primary day in New York and front-runners...  REAL  "
      ]
     },
     "execution_count": 2,
     "metadata": {},
     "output_type": "execute_result"
    }
   ],
   "source": [
    "news=pd.read_csv('C:/Users/lenovo/Desktop/datasets/news.csv')\n",
    "print(type(news))\n",
    "news.head()"
   ]
  },
  {
   "cell_type": "code",
   "execution_count": 5,
   "metadata": {},
   "outputs": [
    {
     "data": {
      "text/plain": [
       "0    FAKE\n",
       "1    FAKE\n",
       "2    REAL\n",
       "3    FAKE\n",
       "4    REAL\n",
       "Name: label, dtype: object"
      ]
     },
     "execution_count": 5,
     "metadata": {},
     "output_type": "execute_result"
    }
   ],
   "source": [
    "#DataFlair - Get the labels\n",
    "labels=news.label\n",
    "labels.head()"
   ]
  },
  {
   "cell_type": "code",
   "execution_count": 25,
   "metadata": {},
   "outputs": [
    {
     "data": {
      "text/plain": [
       "0                            You Can Smell Hillary’s Fear\n",
       "1       Watch The Exact Moment Paul Ryan Committed Pol...\n",
       "2             Kerry to go to Paris in gesture of sympathy\n",
       "3       Bernie supporters on Twitter erupt in anger ag...\n",
       "4        The Battle of New York: Why This Primary Matters\n",
       "                              ...                        \n",
       "6330    State Department says it can't find emails fro...\n",
       "6331    The ‘P’ in PBS Should Stand for ‘Plutocratic’ ...\n",
       "6332    Anti-Trump Protesters Are Tools of the Oligarc...\n",
       "6333    In Ethiopia, Obama seeks progress on peace, se...\n",
       "6334    Jeb Bush Is Suddenly Attacking Trump. Here's W...\n",
       "Name: title, Length: 6335, dtype: object"
      ]
     },
     "execution_count": 25,
     "metadata": {},
     "output_type": "execute_result"
    }
   ],
   "source": [
    "news['title']"
   ]
  },
  {
   "cell_type": "code",
   "execution_count": null,
   "metadata": {},
   "outputs": [],
   "source": []
  },
  {
   "cell_type": "markdown",
   "metadata": {},
   "source": [
    "# Split the dataset into training and testing sets."
   ]
  },
  {
   "cell_type": "code",
   "execution_count": 7,
   "metadata": {},
   "outputs": [],
   "source": [
    "#DataFlair - Split the dataset\n",
    "x_train,x_test,y_train,y_test=train_test_split(news['text'], labels, test_size=0.2, random_state=7)"
   ]
  },
  {
   "cell_type": "markdown",
   "metadata": {},
   "source": [
    "Let’s initialize a TfidfVectorizer with stop words from the English language and a maximum document frequency of 0.7 (terms with a higher document frequency will be discarded). Stop words are the most common words in a language that are to be filtered out before processing the natural language data. And a TfidfVectorizer turns a collection of raw documents into a matrix of TF-IDF features.\n",
    "\n",
    "Now, fit and transform the vectorizer on the train set, and transform the vectorizer on the test set."
   ]
  },
  {
   "cell_type": "code",
   "execution_count": 8,
   "metadata": {},
   "outputs": [],
   "source": [
    "#DataFlair - Initialize a TfidfVectorizer\n",
    "tfidf_vectorizer=TfidfVectorizer(stop_words='english', max_df=0.7)\n",
    "#DataFlair - Fit and transform train set, transform test set\n",
    "tfidf_train=tfidf_vectorizer.fit_transform(x_train) \n",
    "tfidf_test=tfidf_vectorizer.transform(x_test)"
   ]
  },
  {
   "cell_type": "code",
   "execution_count": 20,
   "metadata": {},
   "outputs": [
    {
     "name": "stdout",
     "output_type": "stream",
     "text": [
      "  (0, 56381)\t0.03622223988286098\n",
      "  (0, 16314)\t0.053492157980948106\n",
      "  (0, 19620)\t0.030351855107005405\n",
      "  (0, 52607)\t0.04266045446208797\n",
      "  (0, 14900)\t0.039165339742818085\n",
      "  (0, 53749)\t0.029756205182552464\n",
      "  (0, 15211)\t0.07772572986248194\n",
      "  (0, 61154)\t0.06726619958695557\n",
      "  (0, 59042)\t0.047893261248723944\n",
      "  (0, 42972)\t0.03152542343098286\n",
      "  (0, 54232)\t0.038673616329284524\n",
      "  (0, 59249)\t0.04106143649018827\n",
      "  (0, 28891)\t0.06514397995138038\n",
      "  (0, 41708)\t0.03983513460128018\n",
      "  (0, 50192)\t0.045331181477256094\n",
      "  (0, 44691)\t0.0318676439567658\n",
      "  (0, 11820)\t0.046381950858248124\n",
      "  (0, 7682)\t0.04137048243377956\n",
      "  (0, 50343)\t0.10196965191544219\n",
      "  (0, 48095)\t0.021092647294770877\n",
      "  (0, 17916)\t0.03674587236023286\n",
      "  (0, 46027)\t0.10236534701241509\n",
      "  (0, 16993)\t0.02775494464904786\n",
      "  (0, 55006)\t0.03368300200002207\n",
      "  (0, 51389)\t0.03397042876291898\n",
      "  :\t:\n",
      "  (5067, 32909)\t0.09429823872256275\n",
      "  (5067, 59221)\t0.11305513144362901\n",
      "  (5067, 14649)\t0.03772971846597005\n",
      "  (5067, 55827)\t0.2218263076177088\n",
      "  (5067, 10398)\t0.029198031075976353\n",
      "  (5067, 46158)\t0.037013973826002855\n",
      "  (5067, 60684)\t0.022935168393493133\n",
      "  (5067, 53139)\t0.025628375412833703\n",
      "  (5067, 14556)\t0.04989667741743244\n",
      "  (5067, 59249)\t0.09370008504693801\n",
      "  (5067, 48095)\t0.09626467139586602\n",
      "  (5067, 54706)\t0.02438296419332449\n",
      "  (5067, 54235)\t0.18013712617861882\n",
      "  (5067, 23649)\t0.11715980750719378\n",
      "  (5067, 60291)\t0.02511088091736429\n",
      "  (5067, 30025)\t0.07803429885512414\n",
      "  (5067, 4919)\t0.039597295646358985\n",
      "  (5067, 24041)\t0.031458613144788115\n",
      "  (5067, 51148)\t0.03759621365205542\n",
      "  (5067, 47648)\t0.051281746021764794\n",
      "  (5067, 40793)\t0.12848334208123888\n",
      "  (5067, 57811)\t0.028627812267104712\n",
      "  (5067, 51968)\t0.04662099560930727\n",
      "  (5067, 57236)\t0.05398142449766798\n",
      "  (5067, 24260)\t0.029565269989545447\n"
     ]
    }
   ],
   "source": [
    "print(tfidf_train)"
   ]
  },
  {
   "cell_type": "code",
   "execution_count": 21,
   "metadata": {},
   "outputs": [
    {
     "name": "stdout",
     "output_type": "stream",
     "text": [
      "  (0, 60731)\t0.05899712902382916\n",
      "  (0, 60684)\t0.033385466151529625\n",
      "  (0, 60271)\t0.04581143542258741\n",
      "  (0, 60261)\t0.07937859313949312\n",
      "  (0, 59116)\t0.10997273171965094\n",
      "  (0, 59036)\t0.08042180974421559\n",
      "  (0, 58654)\t0.07128159375531905\n",
      "  (0, 58335)\t0.0678398429566027\n",
      "  (0, 57086)\t0.12429244186413906\n",
      "  (0, 55170)\t0.20939665348422057\n",
      "  (0, 54706)\t0.035492943055135416\n",
      "  (0, 54394)\t0.10596727423829927\n",
      "  (0, 54238)\t0.06234899619642803\n",
      "  (0, 53749)\t0.04942070163765446\n",
      "  (0, 53518)\t0.117529167732626\n",
      "  (0, 53144)\t0.059982387365669215\n",
      "  (0, 52555)\t0.14065295472127948\n",
      "  (0, 52483)\t0.07360851972393109\n",
      "  (0, 51960)\t0.14065295472127948\n",
      "  (0, 51955)\t0.030414611451489323\n",
      "  (0, 51663)\t0.12057034351821985\n",
      "  (0, 51527)\t0.08134873077710283\n",
      "  (0, 51159)\t0.053278054236854326\n",
      "  (0, 51005)\t0.07360851972393109\n",
      "  (0, 50068)\t0.06481045119580665\n",
      "  :\t:\n",
      "  (1266, 16835)\t0.08080116269909657\n",
      "  (1266, 16385)\t0.0655727278454052\n",
      "  (1266, 15999)\t0.03279926109441314\n",
      "  (1266, 14890)\t0.05544599110567492\n",
      "  (1266, 13110)\t0.06697165573835866\n",
      "  (1266, 12885)\t0.05404331760933019\n",
      "  (1266, 12792)\t0.052054416965658004\n",
      "  (1266, 11999)\t0.09393931399068145\n",
      "  (1266, 11425)\t0.061215890922102396\n",
      "  (1266, 11275)\t0.03975222944194533\n",
      "  (1266, 10398)\t0.03928759838998747\n",
      "  (1266, 10334)\t0.052485971705883705\n",
      "  (1266, 9807)\t0.47248142728953435\n",
      "  (1266, 9082)\t0.06889577674672712\n",
      "  (1266, 8639)\t0.09860931312297018\n",
      "  (1266, 7209)\t0.05947909473390904\n",
      "  (1266, 7127)\t0.12219547760308587\n",
      "  (1266, 7021)\t0.09258263295223065\n",
      "  (1266, 6653)\t0.05532410291136702\n",
      "  (1266, 6288)\t0.04255750958351483\n",
      "  (1266, 5568)\t0.04067869750578144\n",
      "  (1266, 5070)\t0.08544954436342893\n",
      "  (1266, 4297)\t0.09929470490549547\n",
      "  (1266, 2510)\t0.04365670001733164\n",
      "  (1266, 2365)\t0.06671538208893119\n"
     ]
    }
   ],
   "source": [
    "print(tfidf_test)"
   ]
  },
  {
   "cell_type": "code",
   "execution_count": 22,
   "metadata": {},
   "outputs": [
    {
     "name": "stdout",
     "output_type": "stream",
     "text": [
      "6237    FAKE\n",
      "3722    FAKE\n",
      "5774    FAKE\n",
      "336     REAL\n",
      "3622    REAL\n",
      "        ... \n",
      "5699    FAKE\n",
      "2550    REAL\n",
      "537     REAL\n",
      "1220    REAL\n",
      "4271    REAL\n",
      "Name: label, Length: 5068, dtype: object\n"
     ]
    }
   ],
   "source": [
    "print(y_train)"
   ]
  },
  {
   "cell_type": "code",
   "execution_count": null,
   "metadata": {},
   "outputs": [],
   "source": []
  },
  {
   "cell_type": "markdown",
   "metadata": {},
   "source": [
    "Next, we’ll initialize a PassiveAggressiveClassifier. This is. We’ll fit this on tfidf_train and y_train."
   ]
  },
  {
   "cell_type": "code",
   "execution_count": 9,
   "metadata": {},
   "outputs": [
    {
     "name": "stdout",
     "output_type": "stream",
     "text": [
      "Accuracy: 92.58%\n"
     ]
    }
   ],
   "source": [
    "#DataFlair - Initialize a PassiveAggressiveClassifier\n",
    "pac=PassiveAggressiveClassifier(max_iter=50)\n",
    "pac.fit(tfidf_train,y_train)\n",
    "#DataFlair - Predict on the test set and calculate accuracy\n",
    "y_pred=pac.predict(tfidf_test)\n",
    "score=accuracy_score(y_test,y_pred)\n",
    "print(f'Accuracy: {round(score*100,2)}%')\n"
   ]
  },
  {
   "cell_type": "code",
   "execution_count": 23,
   "metadata": {},
   "outputs": [
    {
     "name": "stdout",
     "output_type": "stream",
     "text": [
      "['REAL' 'FAKE' 'REAL' ... 'REAL' 'FAKE' 'REAL']\n"
     ]
    }
   ],
   "source": [
    "print(y_pred)"
   ]
  },
  {
   "cell_type": "markdown",
   "metadata": {},
   "source": [
    "We got an accuracy of 92.82% with this model. Finally, let’s print out a confusion matrix to gain insight into the number of false and true negatives and positives."
   ]
  },
  {
   "cell_type": "code",
   "execution_count": 10,
   "metadata": {},
   "outputs": [
    {
     "data": {
      "text/plain": [
       "array([[589,  49],\n",
       "       [ 45, 584]], dtype=int64)"
      ]
     },
     "execution_count": 10,
     "metadata": {},
     "output_type": "execute_result"
    }
   ],
   "source": [
    "#DataFlair - Build confusion matrix\n",
    "confusion_matrix(y_test,y_pred, labels=['FAKE','REAL'])"
   ]
  },
  {
   "cell_type": "markdown",
   "metadata": {},
   "source": [
    "So with this model, we have 589 true positives, 584 true negatives, 45 false positives, and 49 false negatives."
   ]
  },
  {
   "cell_type": "code",
   "execution_count": null,
   "metadata": {},
   "outputs": [],
   "source": []
  }
 ],
 "metadata": {
  "kernelspec": {
   "display_name": "Python 3",
   "language": "python",
   "name": "python3"
  },
  "language_info": {
   "codemirror_mode": {
    "name": "ipython",
    "version": 3
   },
   "file_extension": ".py",
   "mimetype": "text/x-python",
   "name": "python",
   "nbconvert_exporter": "python",
   "pygments_lexer": "ipython3",
   "version": "3.8.5"
  }
 },
 "nbformat": 4,
 "nbformat_minor": 4
}
